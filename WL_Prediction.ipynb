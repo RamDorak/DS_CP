{
 "cells": [
  {
   "cell_type": "markdown",
   "id": "5d8744c5-c29f-41df-9ad9-3ef4051eaf67",
   "metadata": {},
   "source": [
    "Import packages related to implementing prediction model"
   ]
  },
  {
   "cell_type": "code",
   "execution_count": 64,
   "id": "67dff6ae-85b0-4ffa-9389-7972c7045af2",
   "metadata": {},
   "outputs": [],
   "source": [
    "import pandas as pd\n",
    "from sklearn.model_selection import train_test_split\n",
    "from sklearn.linear_model import LogisticRegression\n",
    "from sklearn.metrics import accuracy_score, classification_report"
   ]
  },
  {
   "cell_type": "markdown",
   "id": "6744e659-ff1f-4b2b-9e37-96e943c832ea",
   "metadata": {},
   "source": [
    "Read data"
   ]
  },
  {
   "cell_type": "code",
   "execution_count": 65,
   "id": "d72bd97d-b649-435d-8f6d-4515bd8a243d",
   "metadata": {},
   "outputs": [
    {
     "name": "stdout",
     "output_type": "stream",
     "text": [
      "    Score  Overs   RPO  Target  Inns  Total Runs Result      Opposition   \n",
      "0   254/9   50.0  5.08     289     2         254   lost     v Australia  \\\n",
      "1   299/4   49.2  6.06     299     2         299    won     v Australia   \n",
      "2   234/3   49.2  4.74     231     2         234    won     v Australia   \n",
      "3   156/2   34.5  4.47     156     2         156    won   v New Zealand   \n",
      "4   245/3   43.0  5.69     244     2         245    won   v New Zealand   \n",
      "5   240/4   48.2  4.96     237     2         240    won     v Australia   \n",
      "6     281   48.2  5.81     314     2         281   lost     v Australia   \n",
      "7     237   50.0  4.74     273     2         237   lost     v Australia   \n",
      "8   230/4   47.3  4.84     228     2         230    won  v South Africa   \n",
      "9   306/5   50.0  6.12     338     2         306   lost       v England   \n",
      "10  265/3   43.3  6.09     265     2         265    won     v Sri Lanka   \n",
      "11    221   49.3  4.46     240     2         221   lost   v New Zealand   \n",
      "12  256/4   32.3  7.87     255     2         256    won   v West Indies   \n",
      "13  316/6   48.4  6.49     316     2         316    won   v West Indies   \n",
      "14  289/3   47.3  6.08     287     2         289    won     v Australia   \n",
      "15    251   48.3  5.17     274     2         251   lost   v New Zealand   \n",
      "16  308/8   50.0  6.16     375     2         308   lost     v Australia   \n",
      "17  338/9   50.0  6.76     390     2         338   lost     v Australia   \n",
      "18  263/3   36.4  7.17     263     2         263    won     v Sri Lanka   \n",
      "19  277/7   49.1  5.63     276     2         277    won     v Sri Lanka   \n",
      "20  265/8   50.0  5.30     297     2         265   lost  v South Africa   \n",
      "21    283   49.2  5.73     288     2         283   lost  v South Africa   \n",
      "22  178/4   28.0  6.35     177     2         178    won   v West Indies   \n",
      "23  114/0   18.4  6.10     111     2         114    won       v England   \n",
      "24    146   38.5  3.75     247     2         146   lost       v England   \n",
      "25  261/5   42.1  6.18     260     2         261    won       v England   \n",
      "26  312/8   49.4  6.28     312     2         312    won   v West Indies   \n",
      "27  192/0   30.5  6.22     190     2         192    won      v Zimbabwe   \n",
      "28  167/5   25.4  6.50     162     2         167    won      v Zimbabwe   \n",
      "29  240/8   40.0  6.00     250     2         240   lost  v South Africa   \n",
      "30  282/3   45.5  6.15     279     2         282    won  v South Africa   \n",
      "31  105/3   19.1  5.47     100     2         105    won  v South Africa   \n",
      "32  266/9   50.0  5.32     272     2         266   lost    v Bangladesh   \n",
      "33  219/6   43.2  5.05     216     2         219    won     v Sri Lanka   \n",
      "34  111/2   20.1  5.50     109     2         111    won   v New Zealand   \n",
      "35  191/5   39.5  4.79     189     2         191    won     v Australia   \n",
      "36    248   49.1  5.04     270     2         248   lost     v Australia   \n",
      "37  118/5   22.5  5.16     115     2         118    won   v West Indies   \n",
      "38  147/0   20.1  7.28     145     2         147    won         v Nepal   \n",
      "\n",
      "             Ground Start Date Unnamed: 10  \n",
      "0            Sydney 2019-01-12  ODI # 4077  \n",
      "1          Adelaide 2019-01-15  ODI # 4078  \n",
      "2         Melbourne 2019-01-18  ODI # 4079  \n",
      "3            Napier 2019-01-23  ODI # 4082  \n",
      "4   Mount Maunganui 2019-01-28  ODI # 4088  \n",
      "5         Hyderabad 2019-03-02  ODI # 4102  \n",
      "6            Ranchi 2019-03-08  ODI # 4109  \n",
      "7             Delhi 2019-03-13  ODI # 4113  \n",
      "8       Southampton 2019-06-05  ODI # 4150  \n",
      "9        Birmingham 2019-06-30  ODI # 4179  \n",
      "10            Leeds 2019-07-06  ODI # 4187  \n",
      "11       Manchester 2019-07-09  ODI # 4190  \n",
      "12    Port of Spain 2019-08-14  ODI # 4199  \n",
      "13          Cuttack 2019-12-22  ODI # 4223  \n",
      "14        Bengaluru 2020-01-19  ODI # 4233  \n",
      "15         Auckland 2020-02-08  ODI # 4239  \n",
      "16           Sydney 2020-11-27  ODI # 4265  \n",
      "17           Sydney 2020-11-29  ODI # 4266  \n",
      "18    Colombo (RPS) 2021-07-18  ODI # 4307  \n",
      "19    Colombo (RPS) 2021-07-20  ODI # 4309  \n",
      "20            Paarl 2022-01-19  ODI # 4344  \n",
      "21        Cape Town 2022-01-23  ODI # 4349  \n",
      "22        Ahmedabad 2022-02-06  ODI # 4353  \n",
      "23         The Oval 2022-07-12  ODI # 4424  \n",
      "24           Lord's 2022-07-14  ODI # 4428  \n",
      "25       Manchester 2022-07-17  ODI # 4433  \n",
      "26    Port of Spain 2022-07-24  ODI # 4438  \n",
      "27           Harare 2022-08-18  ODI # 4451  \n",
      "28           Harare 2022-08-20  ODI # 4454  \n",
      "29          Lucknow 2022-10-06  ODI # 4470  \n",
      "30           Ranchi 2022-10-09  ODI # 4471  \n",
      "31            Delhi 2022-10-11  ODI # 4472  \n",
      "32           Mirpur 2022-12-07  ODI # 4496  \n",
      "33     Eden Gardens 2023-01-12  ODI # 4503  \n",
      "34           Raipur 2023-01-21  ODI # 4509  \n",
      "35         Wankhede 2023-03-17  ODI # 4538  \n",
      "36          Chennai 2023-03-22  ODI # 4545  \n",
      "37       Bridgetown 2023-07-27  ODI # 4622  \n",
      "38        Pallekele 2023-09-04  ODI # 4632  \n"
     ]
    }
   ],
   "source": [
    "data = pd.read_excel('Prediction_dataset.xlsx', sheet_name = 'FieldingFirst')\n",
    "print(data)"
   ]
  },
  {
   "cell_type": "code",
   "execution_count": 66,
   "id": "e4b420e4-8c8f-4602-a3e2-08b972e7b1a5",
   "metadata": {},
   "outputs": [],
   "source": [
    "X = data[['RPO', 'Overs', 'Target', 'Opposition']]\n",
    "y = data['Result']"
   ]
  },
  {
   "cell_type": "code",
   "execution_count": 67,
   "id": "9c78bb4e-0d66-4df9-b5c6-a34588bf55f0",
   "metadata": {},
   "outputs": [],
   "source": [
    "X = pd.get_dummies(X, columns=['Opposition'])\n",
    "X_train, X_test, y_train, y_test = train_test_split(X, y, test_size=0.2, random_state=42)"
   ]
  },
  {
   "cell_type": "code",
   "execution_count": 76,
   "id": "86bb31a4-ae3f-47ce-a54b-b4eca649818d",
   "metadata": {},
   "outputs": [
    {
     "name": "stdout",
     "output_type": "stream",
     "text": [
      "    Target   RPO  Overs\n",
      "33     216  5.05   43.2\n",
      "36     270  5.04   49.1\n",
      "4      244  5.69   43.0\n",
      "13     316  6.49   48.4\n",
      "30     279  6.15   45.5\n",
      "26     312  6.28   49.4\n",
      "6      314  5.81   48.2\n",
      "27     190  6.22   30.5\n",
      "['won' 'lost' 'won' 'lost' 'lost' 'lost' 'lost' 'won']\n"
     ]
    }
   ],
   "source": [
    "model = LogisticRegression(max_iter = 1000)\n",
    "model.fit(X_train, y_train)\n",
    "y_pred = model.predict(X_test)\n",
    "print(X_test[['Target', 'RPO', 'Overs']])\n",
    "print(y_pred)"
   ]
  },
  {
   "cell_type": "code",
   "execution_count": 77,
   "id": "be85526c-7c55-4571-ad39-46094e442a3e",
   "metadata": {},
   "outputs": [
    {
     "name": "stdout",
     "output_type": "stream",
     "text": [
      "Accuracy: 0.62\n",
      "Classification Report:\n",
      "              precision    recall  f1-score   support\n",
      "\n",
      "        lost       0.40      1.00      0.57         2\n",
      "         won       1.00      0.50      0.67         6\n",
      "\n",
      "    accuracy                           0.62         8\n",
      "   macro avg       0.70      0.75      0.62         8\n",
      "weighted avg       0.85      0.62      0.64         8\n",
      "\n"
     ]
    }
   ],
   "source": [
    "accuracy = accuracy_score(y_test, y_pred)\n",
    "report = classification_report(y_test, y_pred)\n",
    "\n",
    "print(f'Accuracy: {accuracy:.2f}')\n",
    "print('Classification Report:')\n",
    "print(report)"
   ]
  }
 ],
 "metadata": {
  "kernelspec": {
   "display_name": "Python 3 (ipykernel)",
   "language": "python",
   "name": "python3"
  },
  "language_info": {
   "codemirror_mode": {
    "name": "ipython",
    "version": 3
   },
   "file_extension": ".py",
   "mimetype": "text/x-python",
   "name": "python",
   "nbconvert_exporter": "python",
   "pygments_lexer": "ipython3",
   "version": "3.11.1"
  }
 },
 "nbformat": 4,
 "nbformat_minor": 5
}
