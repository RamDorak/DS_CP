{
 "cells": [
  {
   "cell_type": "markdown",
   "id": "5d8744c5-c29f-41df-9ad9-3ef4051eaf67",
   "metadata": {},
   "source": [
    "Import packages related to implementing prediction model"
   ]
  },
  {
   "cell_type": "code",
   "execution_count": 31,
   "id": "67dff6ae-85b0-4ffa-9389-7972c7045af2",
   "metadata": {},
   "outputs": [],
   "source": [
    "import pandas as pd\n",
    "from sklearn.model_selection import train_test_split\n",
    "from sklearn.linear_model import LogisticRegression\n",
    "from sklearn.metrics import accuracy_score, classification_report"
   ]
  },
  {
   "cell_type": "markdown",
   "id": "6744e659-ff1f-4b2b-9e37-96e943c832ea",
   "metadata": {},
   "source": [
    "Read data"
   ]
  },
  {
   "cell_type": "code",
   "execution_count": 32,
   "id": "d72bd97d-b649-435d-8f6d-4515bd8a243d",
   "metadata": {},
   "outputs": [
    {
     "name": "stdout",
     "output_type": "stream",
     "text": [
      "    Score  Overs   RPO  Target  Inns  Total Runs Result      Opposition   \n",
      "0   254/9   50.0  5.08     289     2         254   lost     v Australia  \\\n",
      "1   299/4   49.2  6.06     299     2         299    won     v Australia   \n",
      "2   234/3   49.2  4.74     231     2         234    won     v Australia   \n",
      "3   156/2   34.5  4.47     156     2         156    won   v New Zealand   \n",
      "4   245/3   43.0  5.69     244     2         245    won   v New Zealand   \n",
      "5   240/4   48.2  4.96     237     2         240    won     v Australia   \n",
      "6     281   48.2  5.81     314     2         281   lost     v Australia   \n",
      "7     237   50.0  4.74     273     2         237   lost     v Australia   \n",
      "8   230/4   47.3  4.84     228     2         230    won  v South Africa   \n",
      "9   306/5   50.0  6.12     338     2         306   lost       v England   \n",
      "10  265/3   43.3  6.09     265     2         265    won     v Sri Lanka   \n",
      "11    221   49.3  4.46     240     2         221   lost   v New Zealand   \n",
      "12  256/4   32.3  7.87     255     2         256    won   v West Indies   \n",
      "13  316/6   48.4  6.49     316     2         316    won   v West Indies   \n",
      "14  289/3   47.3  6.08     287     2         289    won     v Australia   \n",
      "15    251   48.3  5.17     274     2         251   lost   v New Zealand   \n",
      "16  308/8   50.0  6.16     375     2         308   lost     v Australia   \n",
      "17  338/9   50.0  6.76     390     2         338   lost     v Australia   \n",
      "18  263/3   36.4  7.17     263     2         263    won     v Sri Lanka   \n",
      "19  277/7   49.1  5.63     276     2         277    won     v Sri Lanka   \n",
      "20  265/8   50.0  5.30     297     2         265   lost  v South Africa   \n",
      "21    283   49.2  5.73     288     2         283   lost  v South Africa   \n",
      "22  178/4   28.0  6.35     177     2         178    won   v West Indies   \n",
      "23  114/0   18.4  6.10     111     2         114    won       v England   \n",
      "24    146   38.5  3.75     247     2         146   lost       v England   \n",
      "25  261/5   42.1  6.18     260     2         261    won       v England   \n",
      "26  312/8   49.4  6.28     312     2         312    won   v West Indies   \n",
      "27  192/0   30.5  6.22     190     2         192    won      v Zimbabwe   \n",
      "28  167/5   25.4  6.50     162     2         167    won      v Zimbabwe   \n",
      "29  240/8   40.0  6.00     250     2         240   lost  v South Africa   \n",
      "30  282/3   45.5  6.15     279     2         282    won  v South Africa   \n",
      "31  105/3   19.1  5.47     100     2         105    won  v South Africa   \n",
      "32  266/9   50.0  5.32     272     2         266   lost    v Bangladesh   \n",
      "33  219/6   43.2  5.05     216     2         219    won     v Sri Lanka   \n",
      "34  111/2   20.1  5.50     109     2         111    won   v New Zealand   \n",
      "35  191/5   39.5  4.79     189     2         191    won     v Australia   \n",
      "36    248   49.1  5.04     270     2         248   lost     v Australia   \n",
      "37  118/5   22.5  5.16     115     2         118    won   v West Indies   \n",
      "38  147/0   20.1  7.28     145     2         147    won         v Nepal   \n",
      "\n",
      "             Ground Start Date Unnamed: 10  \n",
      "0            Sydney 2019-01-12  ODI # 4077  \n",
      "1          Adelaide 2019-01-15  ODI # 4078  \n",
      "2         Melbourne 2019-01-18  ODI # 4079  \n",
      "3            Napier 2019-01-23  ODI # 4082  \n",
      "4   Mount Maunganui 2019-01-28  ODI # 4088  \n",
      "5         Hyderabad 2019-03-02  ODI # 4102  \n",
      "6            Ranchi 2019-03-08  ODI # 4109  \n",
      "7             Delhi 2019-03-13  ODI # 4113  \n",
      "8       Southampton 2019-06-05  ODI # 4150  \n",
      "9        Birmingham 2019-06-30  ODI # 4179  \n",
      "10            Leeds 2019-07-06  ODI # 4187  \n",
      "11       Manchester 2019-07-09  ODI # 4190  \n",
      "12    Port of Spain 2019-08-14  ODI # 4199  \n",
      "13          Cuttack 2019-12-22  ODI # 4223  \n",
      "14        Bengaluru 2020-01-19  ODI # 4233  \n",
      "15         Auckland 2020-02-08  ODI # 4239  \n",
      "16           Sydney 2020-11-27  ODI # 4265  \n",
      "17           Sydney 2020-11-29  ODI # 4266  \n",
      "18    Colombo (RPS) 2021-07-18  ODI # 4307  \n",
      "19    Colombo (RPS) 2021-07-20  ODI # 4309  \n",
      "20            Paarl 2022-01-19  ODI # 4344  \n",
      "21        Cape Town 2022-01-23  ODI # 4349  \n",
      "22        Ahmedabad 2022-02-06  ODI # 4353  \n",
      "23         The Oval 2022-07-12  ODI # 4424  \n",
      "24           Lord's 2022-07-14  ODI # 4428  \n",
      "25       Manchester 2022-07-17  ODI # 4433  \n",
      "26    Port of Spain 2022-07-24  ODI # 4438  \n",
      "27           Harare 2022-08-18  ODI # 4451  \n",
      "28           Harare 2022-08-20  ODI # 4454  \n",
      "29          Lucknow 2022-10-06  ODI # 4470  \n",
      "30           Ranchi 2022-10-09  ODI # 4471  \n",
      "31            Delhi 2022-10-11  ODI # 4472  \n",
      "32           Mirpur 2022-12-07  ODI # 4496  \n",
      "33     Eden Gardens 2023-01-12  ODI # 4503  \n",
      "34           Raipur 2023-01-21  ODI # 4509  \n",
      "35         Wankhede 2023-03-17  ODI # 4538  \n",
      "36          Chennai 2023-03-22  ODI # 4545  \n",
      "37       Bridgetown 2023-07-27  ODI # 4622  \n",
      "38        Pallekele 2023-09-04  ODI # 4632  \n"
     ]
    }
   ],
   "source": [
    "data = pd.read_excel('Prediction_dataset.xlsx', sheet_name = 'FieldingFirst')\n",
    "print(data)"
   ]
  },
  {
   "cell_type": "code",
   "execution_count": 33,
   "id": "e4b420e4-8c8f-4602-a3e2-08b972e7b1a5",
   "metadata": {},
   "outputs": [],
   "source": [
    "X = data[['RPO', 'Overs', 'Target', 'Opposition']]\n",
    "y = data['Result']"
   ]
  },
  {
   "cell_type": "code",
   "execution_count": 36,
   "id": "9c78bb4e-0d66-4df9-b5c6-a34588bf55f0",
   "metadata": {},
   "outputs": [],
   "source": [
    "X = pd.get_dummies(X, columns=['Opposition'])\n",
    "X_train, X_test, y_train, y_test = train_test_split(X, y, test_size=0.2, random_state=42)"
   ]
  },
  {
   "cell_type": "code",
   "execution_count": 39,
   "id": "86bb31a4-ae3f-47ce-a54b-b4eca649818d",
   "metadata": {},
   "outputs": [],
   "source": [
    "model = LogisticRegression(max_iter = 1000)\n",
    "model.fit(X_train, y_train)\n",
    "y_pred = model.predict(X_test)"
   ]
  },
  {
   "cell_type": "code",
   "execution_count": 38,
   "id": "be85526c-7c55-4571-ad39-46094e442a3e",
   "metadata": {},
   "outputs": [
    {
     "name": "stdout",
     "output_type": "stream",
     "text": [
      "Accuracy: 0.62\n",
      "Classification Report:\n",
      "              precision    recall  f1-score   support\n",
      "\n",
      "        lost       0.40      1.00      0.57         2\n",
      "         won       1.00      0.50      0.67         6\n",
      "\n",
      "    accuracy                           0.62         8\n",
      "   macro avg       0.70      0.75      0.62         8\n",
      "weighted avg       0.85      0.62      0.64         8\n",
      "\n"
     ]
    }
   ],
   "source": [
    "accuracy = accuracy_score(y_test, y_pred)\n",
    "report = classification_report(y_test, y_pred)\n",
    "\n",
    "print(f'Accuracy: {accuracy:.2f}')\n",
    "print('Classification Report:')\n",
    "print(report)"
   ]
  },
  {
   "cell_type": "code",
   "execution_count": 40,
   "id": "012f011a-79fe-47f0-a95f-4c05e97d7dbe",
   "metadata": {},
   "outputs": [
    {
     "ename": "ValueError",
     "evalue": "The feature names should match those that were passed during fit.\nFeature names unseen at fit time:\n- Opposition_v Australia\nFeature names seen at fit time, yet now missing:\n- Opposition_v Australia\n- Opposition_v Bangladesh\n- Opposition_v England\n- Opposition_v Nepal\n- Opposition_v New Zealand\n- ...\n",
     "output_type": "error",
     "traceback": [
      "\u001b[1;31m---------------------------------------------------------------------------\u001b[0m",
      "\u001b[1;31mValueError\u001b[0m                                Traceback (most recent call last)",
      "Cell \u001b[1;32mIn[40], line 10\u001b[0m\n\u001b[0;32m      1\u001b[0m new_data_point \u001b[38;5;241m=\u001b[39m pd\u001b[38;5;241m.\u001b[39mDataFrame({\n\u001b[0;32m      2\u001b[0m     \u001b[38;5;124m'\u001b[39m\u001b[38;5;124mRPO\u001b[39m\u001b[38;5;124m'\u001b[39m: [\u001b[38;5;241m5.08\u001b[39m],\n\u001b[0;32m      3\u001b[0m     \u001b[38;5;124m'\u001b[39m\u001b[38;5;124mOvers\u001b[39m\u001b[38;5;124m'\u001b[39m: [\u001b[38;5;241m50\u001b[39m],\n\u001b[0;32m      4\u001b[0m     \u001b[38;5;124m'\u001b[39m\u001b[38;5;124mTarget\u001b[39m\u001b[38;5;124m'\u001b[39m: [\u001b[38;5;241m289\u001b[39m],\n\u001b[0;32m      5\u001b[0m     \u001b[38;5;124m'\u001b[39m\u001b[38;5;124mOpposition\u001b[39m\u001b[38;5;124m'\u001b[39m: [\u001b[38;5;124m'\u001b[39m\u001b[38;5;124mv Australia\u001b[39m\u001b[38;5;124m'\u001b[39m]  \u001b[38;5;66;03m# Replace with the actual opposing team name\u001b[39;00m\n\u001b[0;32m      6\u001b[0m })\n\u001b[0;32m      8\u001b[0m new_data_point \u001b[38;5;241m=\u001b[39m pd\u001b[38;5;241m.\u001b[39mget_dummies(new_data_point, columns\u001b[38;5;241m=\u001b[39m[\u001b[38;5;124m'\u001b[39m\u001b[38;5;124mOpposition\u001b[39m\u001b[38;5;124m'\u001b[39m])\n\u001b[1;32m---> 10\u001b[0m predicted_result \u001b[38;5;241m=\u001b[39m \u001b[43mmodel\u001b[49m\u001b[38;5;241;43m.\u001b[39;49m\u001b[43mpredict\u001b[49m\u001b[43m(\u001b[49m\u001b[43mnew_data_point\u001b[49m\u001b[43m)\u001b[49m\n\u001b[0;32m     11\u001b[0m \u001b[38;5;28mprint\u001b[39m(\u001b[38;5;124mf\u001b[39m\u001b[38;5;124m'\u001b[39m\u001b[38;5;124mPredicted Result: \u001b[39m\u001b[38;5;132;01m{\u001b[39;00mpredicted_result[\u001b[38;5;241m0\u001b[39m]\u001b[38;5;132;01m}\u001b[39;00m\u001b[38;5;124m'\u001b[39m)\n",
      "File \u001b[1;32m~\\AppData\\Local\\Programs\\Python\\Python311\\Lib\\site-packages\\sklearn\\linear_model\\_base.py:419\u001b[0m, in \u001b[0;36mLinearClassifierMixin.predict\u001b[1;34m(self, X)\u001b[0m\n\u001b[0;32m    405\u001b[0m \u001b[38;5;250m\u001b[39m\u001b[38;5;124;03m\"\"\"\u001b[39;00m\n\u001b[0;32m    406\u001b[0m \u001b[38;5;124;03mPredict class labels for samples in X.\u001b[39;00m\n\u001b[0;32m    407\u001b[0m \n\u001b[1;32m   (...)\u001b[0m\n\u001b[0;32m    416\u001b[0m \u001b[38;5;124;03m    Vector containing the class labels for each sample.\u001b[39;00m\n\u001b[0;32m    417\u001b[0m \u001b[38;5;124;03m\"\"\"\u001b[39;00m\n\u001b[0;32m    418\u001b[0m xp, _ \u001b[38;5;241m=\u001b[39m get_namespace(X)\n\u001b[1;32m--> 419\u001b[0m scores \u001b[38;5;241m=\u001b[39m \u001b[38;5;28;43mself\u001b[39;49m\u001b[38;5;241;43m.\u001b[39;49m\u001b[43mdecision_function\u001b[49m\u001b[43m(\u001b[49m\u001b[43mX\u001b[49m\u001b[43m)\u001b[49m\n\u001b[0;32m    420\u001b[0m \u001b[38;5;28;01mif\u001b[39;00m \u001b[38;5;28mlen\u001b[39m(scores\u001b[38;5;241m.\u001b[39mshape) \u001b[38;5;241m==\u001b[39m \u001b[38;5;241m1\u001b[39m:\n\u001b[0;32m    421\u001b[0m     indices \u001b[38;5;241m=\u001b[39m xp\u001b[38;5;241m.\u001b[39mastype(scores \u001b[38;5;241m>\u001b[39m \u001b[38;5;241m0\u001b[39m, \u001b[38;5;28mint\u001b[39m)\n",
      "File \u001b[1;32m~\\AppData\\Local\\Programs\\Python\\Python311\\Lib\\site-packages\\sklearn\\linear_model\\_base.py:400\u001b[0m, in \u001b[0;36mLinearClassifierMixin.decision_function\u001b[1;34m(self, X)\u001b[0m\n\u001b[0;32m    397\u001b[0m check_is_fitted(\u001b[38;5;28mself\u001b[39m)\n\u001b[0;32m    398\u001b[0m xp, _ \u001b[38;5;241m=\u001b[39m get_namespace(X)\n\u001b[1;32m--> 400\u001b[0m X \u001b[38;5;241m=\u001b[39m \u001b[38;5;28;43mself\u001b[39;49m\u001b[38;5;241;43m.\u001b[39;49m\u001b[43m_validate_data\u001b[49m\u001b[43m(\u001b[49m\u001b[43mX\u001b[49m\u001b[43m,\u001b[49m\u001b[43m \u001b[49m\u001b[43maccept_sparse\u001b[49m\u001b[38;5;241;43m=\u001b[39;49m\u001b[38;5;124;43m\"\u001b[39;49m\u001b[38;5;124;43mcsr\u001b[39;49m\u001b[38;5;124;43m\"\u001b[39;49m\u001b[43m,\u001b[49m\u001b[43m \u001b[49m\u001b[43mreset\u001b[49m\u001b[38;5;241;43m=\u001b[39;49m\u001b[38;5;28;43;01mFalse\u001b[39;49;00m\u001b[43m)\u001b[49m\n\u001b[0;32m    401\u001b[0m scores \u001b[38;5;241m=\u001b[39m safe_sparse_dot(X, \u001b[38;5;28mself\u001b[39m\u001b[38;5;241m.\u001b[39mcoef_\u001b[38;5;241m.\u001b[39mT, dense_output\u001b[38;5;241m=\u001b[39m\u001b[38;5;28;01mTrue\u001b[39;00m) \u001b[38;5;241m+\u001b[39m \u001b[38;5;28mself\u001b[39m\u001b[38;5;241m.\u001b[39mintercept_\n\u001b[0;32m    402\u001b[0m \u001b[38;5;28;01mreturn\u001b[39;00m xp\u001b[38;5;241m.\u001b[39mreshape(scores, \u001b[38;5;241m-\u001b[39m\u001b[38;5;241m1\u001b[39m) \u001b[38;5;28;01mif\u001b[39;00m scores\u001b[38;5;241m.\u001b[39mshape[\u001b[38;5;241m1\u001b[39m] \u001b[38;5;241m==\u001b[39m \u001b[38;5;241m1\u001b[39m \u001b[38;5;28;01melse\u001b[39;00m scores\n",
      "File \u001b[1;32m~\\AppData\\Local\\Programs\\Python\\Python311\\Lib\\site-packages\\sklearn\\base.py:548\u001b[0m, in \u001b[0;36mBaseEstimator._validate_data\u001b[1;34m(self, X, y, reset, validate_separately, **check_params)\u001b[0m\n\u001b[0;32m    483\u001b[0m \u001b[38;5;28;01mdef\u001b[39;00m \u001b[38;5;21m_validate_data\u001b[39m(\n\u001b[0;32m    484\u001b[0m     \u001b[38;5;28mself\u001b[39m,\n\u001b[0;32m    485\u001b[0m     X\u001b[38;5;241m=\u001b[39m\u001b[38;5;124m\"\u001b[39m\u001b[38;5;124mno_validation\u001b[39m\u001b[38;5;124m\"\u001b[39m,\n\u001b[1;32m   (...)\u001b[0m\n\u001b[0;32m    489\u001b[0m     \u001b[38;5;241m*\u001b[39m\u001b[38;5;241m*\u001b[39mcheck_params,\n\u001b[0;32m    490\u001b[0m ):\n\u001b[0;32m    491\u001b[0m \u001b[38;5;250m    \u001b[39m\u001b[38;5;124;03m\"\"\"Validate input data and set or check the `n_features_in_` attribute.\u001b[39;00m\n\u001b[0;32m    492\u001b[0m \n\u001b[0;32m    493\u001b[0m \u001b[38;5;124;03m    Parameters\u001b[39;00m\n\u001b[1;32m   (...)\u001b[0m\n\u001b[0;32m    546\u001b[0m \u001b[38;5;124;03m        validated.\u001b[39;00m\n\u001b[0;32m    547\u001b[0m \u001b[38;5;124;03m    \"\"\"\u001b[39;00m\n\u001b[1;32m--> 548\u001b[0m     \u001b[38;5;28;43mself\u001b[39;49m\u001b[38;5;241;43m.\u001b[39;49m\u001b[43m_check_feature_names\u001b[49m\u001b[43m(\u001b[49m\u001b[43mX\u001b[49m\u001b[43m,\u001b[49m\u001b[43m \u001b[49m\u001b[43mreset\u001b[49m\u001b[38;5;241;43m=\u001b[39;49m\u001b[43mreset\u001b[49m\u001b[43m)\u001b[49m\n\u001b[0;32m    550\u001b[0m     \u001b[38;5;28;01mif\u001b[39;00m y \u001b[38;5;129;01mis\u001b[39;00m \u001b[38;5;28;01mNone\u001b[39;00m \u001b[38;5;129;01mand\u001b[39;00m \u001b[38;5;28mself\u001b[39m\u001b[38;5;241m.\u001b[39m_get_tags()[\u001b[38;5;124m\"\u001b[39m\u001b[38;5;124mrequires_y\u001b[39m\u001b[38;5;124m\"\u001b[39m]:\n\u001b[0;32m    551\u001b[0m         \u001b[38;5;28;01mraise\u001b[39;00m \u001b[38;5;167;01mValueError\u001b[39;00m(\n\u001b[0;32m    552\u001b[0m             \u001b[38;5;124mf\u001b[39m\u001b[38;5;124m\"\u001b[39m\u001b[38;5;124mThis \u001b[39m\u001b[38;5;132;01m{\u001b[39;00m\u001b[38;5;28mself\u001b[39m\u001b[38;5;241m.\u001b[39m\u001b[38;5;18m__class__\u001b[39m\u001b[38;5;241m.\u001b[39m\u001b[38;5;18m__name__\u001b[39m\u001b[38;5;132;01m}\u001b[39;00m\u001b[38;5;124m estimator \u001b[39m\u001b[38;5;124m\"\u001b[39m\n\u001b[0;32m    553\u001b[0m             \u001b[38;5;124m\"\u001b[39m\u001b[38;5;124mrequires y to be passed, but the target y is None.\u001b[39m\u001b[38;5;124m\"\u001b[39m\n\u001b[0;32m    554\u001b[0m         )\n",
      "File \u001b[1;32m~\\AppData\\Local\\Programs\\Python\\Python311\\Lib\\site-packages\\sklearn\\base.py:481\u001b[0m, in \u001b[0;36mBaseEstimator._check_feature_names\u001b[1;34m(self, X, reset)\u001b[0m\n\u001b[0;32m    476\u001b[0m \u001b[38;5;28;01mif\u001b[39;00m \u001b[38;5;129;01mnot\u001b[39;00m missing_names \u001b[38;5;129;01mand\u001b[39;00m \u001b[38;5;129;01mnot\u001b[39;00m unexpected_names:\n\u001b[0;32m    477\u001b[0m     message \u001b[38;5;241m+\u001b[39m\u001b[38;5;241m=\u001b[39m (\n\u001b[0;32m    478\u001b[0m         \u001b[38;5;124m\"\u001b[39m\u001b[38;5;124mFeature names must be in the same order as they were in fit.\u001b[39m\u001b[38;5;130;01m\\n\u001b[39;00m\u001b[38;5;124m\"\u001b[39m\n\u001b[0;32m    479\u001b[0m     )\n\u001b[1;32m--> 481\u001b[0m \u001b[38;5;28;01mraise\u001b[39;00m \u001b[38;5;167;01mValueError\u001b[39;00m(message)\n",
      "\u001b[1;31mValueError\u001b[0m: The feature names should match those that were passed during fit.\nFeature names unseen at fit time:\n- Opposition_v Australia\nFeature names seen at fit time, yet now missing:\n- Opposition_v Australia\n- Opposition_v Bangladesh\n- Opposition_v England\n- Opposition_v Nepal\n- Opposition_v New Zealand\n- ...\n"
     ]
    }
   ],
   "source": [
    "new_data_point = pd.DataFrame({\n",
    "    'RPO': [5.08],\n",
    "    'Overs': [50],\n",
    "    'Target': [289],\n",
    "    'Opposition': [0]\n",
    "    'Opposition_v Bangladesh': [0],\n",
    "    'Opposition_v England': [0],\n",
    "    'Opposition_v Nepal': [0],\n",
    "    'Opposition_v New Zealand': [0]\n",
    "})\n",
    "\n",
    "new_data_point = pd.get_dummies(new_data_point, columns=['Opposition'])\n",
    "\n",
    "predicted_result = model.predict(new_data_point)\n",
    "print(f'Predicted Result: {predicted_result[0]}')"
   ]
  }
 ],
 "metadata": {
  "kernelspec": {
   "display_name": "Python 3 (ipykernel)",
   "language": "python",
   "name": "python3"
  },
  "language_info": {
   "codemirror_mode": {
    "name": "ipython",
    "version": 3
   },
   "file_extension": ".py",
   "mimetype": "text/x-python",
   "name": "python",
   "nbconvert_exporter": "python",
   "pygments_lexer": "ipython3",
   "version": "3.11.1"
  }
 },
 "nbformat": 4,
 "nbformat_minor": 5
}
