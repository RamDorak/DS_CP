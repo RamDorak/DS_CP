{
 "cells": [
  {
   "cell_type": "code",
   "execution_count": 94,
   "metadata": {},
   "outputs": [],
   "source": [
    "import pandas as pd\n",
    "from sklearn.model_selection import train_test_split\n",
    "from sklearn.linear_model import LinearRegression\n",
    "from sklearn.metrics import mean_absolute_error, mean_squared_error, r2_score"
   ]
  },
  {
   "cell_type": "code",
   "execution_count": 104,
   "metadata": {},
   "outputs": [
    {
     "name": "stdout",
     "output_type": "stream",
     "text": [
      "    Score  Overs   RPO  Target  Inns Result  Total Runs     Opposition   \n",
      "0   268/7   50.0  5.36     NaN     1    won         268  v West Indies  \\\n",
      "1   279/7   50.0  5.58     NaN     1    won         279  v West Indies   \n",
      "2   256/4   32.3  7.87   255.0     2    won         256  v West Indies   \n",
      "3   287/8   50.0  5.74     NaN     1   lost         287  v West Indies   \n",
      "4   387/5   50.0  7.74     NaN     1    won         387  v West Indies   \n",
      "..    ...    ...   ...     ...   ...    ...         ...            ...   \n",
      "70  277/7   49.1  5.63   276.0     2    won         277    v Sri Lanka   \n",
      "71    225   43.1  5.21     NaN     1   lost         225    v Sri Lanka   \n",
      "72  373/7   50.0  7.46     NaN     1    won         373    v Sri Lanka   \n",
      "73  219/6   43.2  5.05   216.0     2    won         219    v Sri Lanka   \n",
      "74  390/5   50.0  7.80     NaN     1    won         390    v Sri Lanka   \n",
      "\n",
      "                Ground Start Date Unnamed: 10  \n",
      "0           Manchester 2019-06-27  ODI # 4175  \n",
      "1        Port of Spain 2019-08-11  ODI # 4197  \n",
      "2        Port of Spain 2019-08-14  ODI # 4199  \n",
      "3              Chennai 2019-12-15  ODI # 4221  \n",
      "4        Visakhapatnam 2019-12-18  ODI # 4222  \n",
      "..                 ...        ...         ...  \n",
      "70       Colombo (RPS) 2021-07-20  ODI # 4309  \n",
      "71       Colombo (RPS) 2021-07-23  ODI # 4312  \n",
      "72            Guwahati 2023-01-10  ODI # 4501  \n",
      "73        Eden Gardens 2023-01-12  ODI # 4503  \n",
      "74  Thiruvananthapuram 2023-01-15  ODI # 4505  \n",
      "\n",
      "[75 rows x 11 columns]\n"
     ]
    }
   ],
   "source": [
    "data = pd.read_excel(\"Prediction_dataset.xlsx\", sheet_name=\"INDvs\")\n",
    "print(data)"
   ]
  },
  {
   "cell_type": "code",
   "execution_count": 96,
   "metadata": {
    "scrolled": true
   },
   "outputs": [
    {
     "name": "stdout",
     "output_type": "stream",
     "text": [
      "0    2019-06-27\n",
      "1    2019-08-11\n",
      "2    2019-08-14\n",
      "3    2019-12-15\n",
      "4    2019-12-18\n",
      "        ...    \n",
      "70   2021-07-20\n",
      "71   2021-07-23\n",
      "72   2023-01-10\n",
      "73   2023-01-12\n",
      "74   2023-01-15\n",
      "Name: Start Date, Length: 75, dtype: datetime64[ns]\n"
     ]
    }
   ],
   "source": [
    "data['Start Date'] = pd.to_datetime(data['Start Date'])\n",
    "print(data['Start Date'])"
   ]
  },
  {
   "cell_type": "code",
   "execution_count": 103,
   "metadata": {},
   "outputs": [
    {
     "name": "stdout",
     "output_type": "stream",
     "text": [
      "    Overs   RPO  Inns\n",
      "0    50.0  5.36     1\n",
      "1    50.0  5.58     1\n",
      "2    32.3  7.87     2\n",
      "3    50.0  5.74     1\n",
      "4    50.0  7.74     1\n",
      "..    ...   ...   ...\n",
      "70   49.1  5.63     2\n",
      "71   43.1  5.21     1\n",
      "72   50.0  7.46     1\n",
      "73   43.2  5.05     2\n",
      "74   50.0  7.80     1\n",
      "\n",
      "[75 rows x 3 columns] \n",
      " 0     268\n",
      "1     279\n",
      "2     256\n",
      "3     287\n",
      "4     387\n",
      "     ... \n",
      "70    277\n",
      "71    225\n",
      "72    373\n",
      "73    219\n",
      "74    390\n",
      "Name: Total Runs, Length: 75, dtype: int64\n"
     ]
    }
   ],
   "source": [
    "X = data[['Overs', 'RPO', 'Inns']]\n",
    "y = data['Total Runs']\n",
    "print(X,\"\\n\", y)"
   ]
  },
  {
   "cell_type": "code",
   "execution_count": 98,
   "metadata": {},
   "outputs": [],
   "source": [
    "X_train, X_test, y_train, y_test = train_test_split(X, y, test_size=0.2, random_state=42)"
   ]
  },
  {
   "cell_type": "code",
   "execution_count": 99,
   "metadata": {},
   "outputs": [
    {
     "data": {
      "text/html": [
       "<style>#sk-container-id-7 {color: black;background-color: white;}#sk-container-id-7 pre{padding: 0;}#sk-container-id-7 div.sk-toggleable {background-color: white;}#sk-container-id-7 label.sk-toggleable__label {cursor: pointer;display: block;width: 100%;margin-bottom: 0;padding: 0.3em;box-sizing: border-box;text-align: center;}#sk-container-id-7 label.sk-toggleable__label-arrow:before {content: \"▸\";float: left;margin-right: 0.25em;color: #696969;}#sk-container-id-7 label.sk-toggleable__label-arrow:hover:before {color: black;}#sk-container-id-7 div.sk-estimator:hover label.sk-toggleable__label-arrow:before {color: black;}#sk-container-id-7 div.sk-toggleable__content {max-height: 0;max-width: 0;overflow: hidden;text-align: left;background-color: #f0f8ff;}#sk-container-id-7 div.sk-toggleable__content pre {margin: 0.2em;color: black;border-radius: 0.25em;background-color: #f0f8ff;}#sk-container-id-7 input.sk-toggleable__control:checked~div.sk-toggleable__content {max-height: 200px;max-width: 100%;overflow: auto;}#sk-container-id-7 input.sk-toggleable__control:checked~label.sk-toggleable__label-arrow:before {content: \"▾\";}#sk-container-id-7 div.sk-estimator input.sk-toggleable__control:checked~label.sk-toggleable__label {background-color: #d4ebff;}#sk-container-id-7 div.sk-label input.sk-toggleable__control:checked~label.sk-toggleable__label {background-color: #d4ebff;}#sk-container-id-7 input.sk-hidden--visually {border: 0;clip: rect(1px 1px 1px 1px);clip: rect(1px, 1px, 1px, 1px);height: 1px;margin: -1px;overflow: hidden;padding: 0;position: absolute;width: 1px;}#sk-container-id-7 div.sk-estimator {font-family: monospace;background-color: #f0f8ff;border: 1px dotted black;border-radius: 0.25em;box-sizing: border-box;margin-bottom: 0.5em;}#sk-container-id-7 div.sk-estimator:hover {background-color: #d4ebff;}#sk-container-id-7 div.sk-parallel-item::after {content: \"\";width: 100%;border-bottom: 1px solid gray;flex-grow: 1;}#sk-container-id-7 div.sk-label:hover label.sk-toggleable__label {background-color: #d4ebff;}#sk-container-id-7 div.sk-serial::before {content: \"\";position: absolute;border-left: 1px solid gray;box-sizing: border-box;top: 0;bottom: 0;left: 50%;z-index: 0;}#sk-container-id-7 div.sk-serial {display: flex;flex-direction: column;align-items: center;background-color: white;padding-right: 0.2em;padding-left: 0.2em;position: relative;}#sk-container-id-7 div.sk-item {position: relative;z-index: 1;}#sk-container-id-7 div.sk-parallel {display: flex;align-items: stretch;justify-content: center;background-color: white;position: relative;}#sk-container-id-7 div.sk-item::before, #sk-container-id-7 div.sk-parallel-item::before {content: \"\";position: absolute;border-left: 1px solid gray;box-sizing: border-box;top: 0;bottom: 0;left: 50%;z-index: -1;}#sk-container-id-7 div.sk-parallel-item {display: flex;flex-direction: column;z-index: 1;position: relative;background-color: white;}#sk-container-id-7 div.sk-parallel-item:first-child::after {align-self: flex-end;width: 50%;}#sk-container-id-7 div.sk-parallel-item:last-child::after {align-self: flex-start;width: 50%;}#sk-container-id-7 div.sk-parallel-item:only-child::after {width: 0;}#sk-container-id-7 div.sk-dashed-wrapped {border: 1px dashed gray;margin: 0 0.4em 0.5em 0.4em;box-sizing: border-box;padding-bottom: 0.4em;background-color: white;}#sk-container-id-7 div.sk-label label {font-family: monospace;font-weight: bold;display: inline-block;line-height: 1.2em;}#sk-container-id-7 div.sk-label-container {text-align: center;}#sk-container-id-7 div.sk-container {/* jupyter's `normalize.less` sets `[hidden] { display: none; }` but bootstrap.min.css set `[hidden] { display: none !important; }` so we also need the `!important` here to be able to override the default hidden behavior on the sphinx rendered scikit-learn.org. See: https://github.com/scikit-learn/scikit-learn/issues/21755 */display: inline-block !important;position: relative;}#sk-container-id-7 div.sk-text-repr-fallback {display: none;}</style><div id=\"sk-container-id-7\" class=\"sk-top-container\"><div class=\"sk-text-repr-fallback\"><pre>LinearRegression()</pre><b>In a Jupyter environment, please rerun this cell to show the HTML representation or trust the notebook. <br />On GitHub, the HTML representation is unable to render, please try loading this page with nbviewer.org.</b></div><div class=\"sk-container\" hidden><div class=\"sk-item\"><div class=\"sk-estimator sk-toggleable\"><input class=\"sk-toggleable__control sk-hidden--visually\" id=\"sk-estimator-id-7\" type=\"checkbox\" checked><label for=\"sk-estimator-id-7\" class=\"sk-toggleable__label sk-toggleable__label-arrow\">LinearRegression</label><div class=\"sk-toggleable__content\"><pre>LinearRegression()</pre></div></div></div></div></div>"
      ],
      "text/plain": [
       "LinearRegression()"
      ]
     },
     "execution_count": 99,
     "metadata": {},
     "output_type": "execute_result"
    }
   ],
   "source": [
    "model = LinearRegression()\n",
    "model.fit(X_train, y_train)"
   ]
  },
  {
   "cell_type": "code",
   "execution_count": 100,
   "metadata": {},
   "outputs": [],
   "source": [
    "y_pred = model.predict(X_test)\n",
    "mae = mean_absolute_error(y_test, y_pred)\n",
    "mse = mean_squared_error(y_test, y_pred)\n",
    "rmse = mean_squared_error(y_test, y_pred, squared=False)\n",
    "r2 = r2_score(y_test, y_pred)"
   ]
  },
  {
   "cell_type": "code",
   "execution_count": 101,
   "metadata": {},
   "outputs": [
    {
     "name": "stdout",
     "output_type": "stream",
     "text": [
      "Mean Absolute Error: 6.237970711758324\n",
      "Mean Squared Error: 54.333797692728815\n",
      "Root Mean Squared Error: 7.371146294351294\n",
      "R-squared (R2) Score: 0.9883400086594473\n"
     ]
    }
   ],
   "source": [
    "print(f\"Mean Absolute Error: {mae}\")\n",
    "print(f\"Mean Squared Error: {mse}\")\n",
    "print(f\"Root Mean Squared Error: {rmse}\")\n",
    "print(f\"R-squared (R2) Score: {r2}\")"
   ]
  },
  {
   "cell_type": "code",
   "execution_count": 105,
   "metadata": {},
   "outputs": [
    {
     "ename": "IndexError",
     "evalue": "index 1 is out of bounds for axis 0 with size 1",
     "output_type": "error",
     "traceback": [
      "\u001b[1;31m---------------------------------------------------------------------------\u001b[0m",
      "\u001b[1;31mIndexError\u001b[0m                                Traceback (most recent call last)",
      "Cell \u001b[1;32mIn[105], line 3\u001b[0m\n\u001b[0;32m      1\u001b[0m new_data \u001b[38;5;241m=\u001b[39m pd\u001b[38;5;241m.\u001b[39mDataFrame({\u001b[38;5;124m'\u001b[39m\u001b[38;5;124mOvers\u001b[39m\u001b[38;5;124m'\u001b[39m: [\u001b[38;5;241m45\u001b[39m], \u001b[38;5;124m'\u001b[39m\u001b[38;5;124mRPO\u001b[39m\u001b[38;5;124m'\u001b[39m: [\u001b[38;5;241m5.8\u001b[39m], \u001b[38;5;124m'\u001b[39m\u001b[38;5;124mInns\u001b[39m\u001b[38;5;124m'\u001b[39m: [\u001b[38;5;241m1\u001b[39m]})\n\u001b[0;32m      2\u001b[0m predicted_runs \u001b[38;5;241m=\u001b[39m model\u001b[38;5;241m.\u001b[39mpredict(new_data)\n\u001b[1;32m----> 3\u001b[0m \u001b[38;5;28mprint\u001b[39m(\u001b[38;5;124mf\u001b[39m\u001b[38;5;124m\"\u001b[39m\u001b[38;5;124mPredicted Runs: \u001b[39m\u001b[38;5;132;01m{\u001b[39;00m\u001b[43mpredicted_runs\u001b[49m\u001b[43m[\u001b[49m\u001b[38;5;241;43m1\u001b[39;49m\u001b[43m]\u001b[49m\u001b[38;5;132;01m}\u001b[39;00m\u001b[38;5;124m\"\u001b[39m)\n",
      "\u001b[1;31mIndexError\u001b[0m: index 1 is out of bounds for axis 0 with size 1"
     ]
    }
   ],
   "source": [
    "new_data = pd.DataFrame({'Overs': [45], 'RPO': [5.8], 'Inns': [1]})\n",
    "predicted_runs = model.predict(new_data)\n",
    "print(f\"Predicted Runs: {predicted_runs[0]}\")"
   ]
  }
 ],
 "metadata": {
  "kernelspec": {
   "display_name": "Python 3 (ipykernel)",
   "language": "python",
   "name": "python3"
  },
  "language_info": {
   "codemirror_mode": {
    "name": "ipython",
    "version": 3
   },
   "file_extension": ".py",
   "mimetype": "text/x-python",
   "name": "python",
   "nbconvert_exporter": "python",
   "pygments_lexer": "ipython3",
   "version": "3.11.1"
  }
 },
 "nbformat": 4,
 "nbformat_minor": 4
}
